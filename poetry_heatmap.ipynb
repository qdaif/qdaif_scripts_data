{
 "cells": [
  {
   "cell_type": "code",
   "execution_count": 1,
   "metadata": {},
   "outputs": [],
   "source": [
    "import json\n",
    "import pandas as pd\n",
    "import seaborn as sns\n",
    "import matplotlib.pyplot as plt\n",
    "\n",
    "data = []\n",
    "with open('sample_files/qdaif_lmx_guided.jsonl', 'r') as f: # here, median QD score run out of 5 re-runs, logged from poetry_perf_and_elites.ipynb\n",
    "    for line in f:\n",
    "        data.append(json.loads(line))\n",
    "\n",
    "df = pd.DataFrame(data)\n",
    "\n",
    "# group by genre and tone\n",
    "grouped = df.groupby(['genre', 'tone']).quality.mean().unstack()"
   ]
  },
  {
   "cell_type": "code",
   "execution_count": null,
   "metadata": {},
   "outputs": [],
   "source": [
    "import matplotlib as mpl\n",
    "mpl.rcParams['figure.dpi'] = 300\n",
    "\n",
    "plt.figure(figsize=(6, 5))\n",
    "ax = sns.heatmap(grouped, annot=False, square=True, cmap=\"rocket\", linewidths=1, cbar_kws={'label': '', 'shrink': 0.8}, vmin=0, vmax=10)\n",
    "\n",
    "plt.xlabel('Tone', fontsize=14)\n",
    "plt.ylabel('Genre', fontsize=14)\n",
    "plt.title('QDAIF', fontsize=24)\n",
    "plt.xticks(fontsize=10)\n",
    "plt.yticks(fontsize=10)\n",
    "\n",
    "# adjust colorbar\n",
    "cbar = ax.collections[0].colorbar\n",
    "cbar.ax.tick_params(labelsize=12)\n",
    "cbar.set_label(label='', size=14)\n",
    "\n",
    "plt.tight_layout()\n",
    "plt.show()"
   ]
  }
 ],
 "metadata": {
  "kernelspec": {
   "display_name": "t_andrew",
   "language": "python",
   "name": "python3"
  },
  "language_info": {
   "codemirror_mode": {
    "name": "ipython",
    "version": 3
   },
   "file_extension": ".py",
   "mimetype": "text/x-python",
   "name": "python",
   "nbconvert_exporter": "python",
   "pygments_lexer": "ipython3",
   "version": "3.9.16"
  },
  "orig_nbformat": 4
 },
 "nbformat": 4,
 "nbformat_minor": 2
}
