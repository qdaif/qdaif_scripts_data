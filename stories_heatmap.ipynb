{
 "cells": [
  {
   "cell_type": "code",
   "execution_count": 7,
   "metadata": {},
   "outputs": [],
   "source": [
    "import numpy as np\n",
    "import pandas as pd\n",
    "import seaborn as sns\n",
    "from pathlib import Path\n",
    "import matplotlib.pyplot as plt\n",
    "\n",
    "from map_elites import MAPElites2DEvaluation"
   ]
  },
  {
   "cell_type": "code",
   "execution_count": 8,
   "metadata": {},
   "outputs": [],
   "source": [
    "# assumes loading run on stories_genre_ending domain (2D)\n",
    "DATA_PATH = \"data/histories_opinions_stories/qdaif/stories_genre_ending/lmx_near_seeded_init/1/history.jsonl\" # here, median QD score run out of 5 re-runs (for QDAIF runs, measured up to iteration 2000, out of 5000)\n",
    "N_BINS = (10, 10)\n",
    "OUTPUT_TITLE = \"QDAIF\""
   ]
  },
  {
   "cell_type": "code",
   "execution_count": 9,
   "metadata": {},
   "outputs": [],
   "source": [
    "def load_results(path: Path)-> pd.DataFrame:\n",
    "    X = pd.read_json(path, lines=True)\n",
    "    return X"
   ]
  },
  {
   "cell_type": "code",
   "execution_count": null,
   "metadata": {},
   "outputs": [],
   "source": [
    "X = load_results(DATA_PATH)\n",
    "X = X.reset_index()\n",
    "\n",
    "X_BINS = [0.005, 0.02, 0.05, 0.20, 0.50, 0.80, 0.95, 0.98, 0.995]\n",
    "Y_BINS = [0.005, 0.02, 0.05, 0.20, 0.50, 0.80, 0.95, 0.98, 0.995]\n",
    "\n",
    "# compute the state of the archive at each iteration\n",
    "map_elites_evaluation = MAPElites2DEvaluation(history_length=len(X), x_bins=X_BINS, y_bins=Y_BINS, start=(0,0), stop=(1,1))\n",
    "map_elites_evaluation.fit(phenotype_key=\"phenotype\", data=X)\n",
    "\n",
    "archive = map_elites_evaluation.archive\n",
    "archive[archive == -np.inf] = 0 # (iters, dim0, dim1)\n",
    "\n",
    "sns.set_theme(style=\"white\")\n",
    "f, ax = plt.subplots(figsize=(9, 6))\n",
    "g = sns.heatmap(np.flip(archive[-1], 0), cmap=sns.color_palette(\"rocket\", as_cmap=True), square=True, linewidths=.5, vmin=0, vmax=1, ax=ax)\n",
    "cbar = g.collections[0].colorbar\n",
    "g.set_xticks([0, 5, 10], labels=['0.0', '0.5', '1.0'], fontsize=15)\n",
    "cbar.ax.tick_params(labelsize=15)\n",
    "\n",
    "# account for swapping of labels (and their corresponding range limits) from analysis scripts ran for baseline methods\n",
    "if \"/baselines/\" in DATA_PATH:\n",
    "    g.set_yticks([0, 5, 10], labels=['1.0', '0.5', '0.0'], fontsize=15)\n",
    "else:\n",
    "    g.invert_yaxis() # for QDAIF\n",
    "    g.set_yticks([0, 5, 10], labels=['0.0', '0.5', '1.0'], fontsize=15)\n",
    "\n",
    "g.set_xlabel(\"Ending (Tragic to Happy)\", fontsize=15)\n",
    "g.set_ylabel(\"Genre (Romance to Horror)\", fontsize=15)\n",
    "\n",
    "g.set_title(OUTPUT_TITLE, size=40)\n",
    "f.show()"
   ]
  }
 ],
 "metadata": {
  "kernelspec": {
   "display_name": "t_andrew",
   "language": "python",
   "name": "python3"
  },
  "language_info": {
   "codemirror_mode": {
    "name": "ipython",
    "version": 3
   },
   "file_extension": ".py",
   "mimetype": "text/x-python",
   "name": "python",
   "nbconvert_exporter": "python",
   "pygments_lexer": "ipython3",
   "version": "3.9.16"
  },
  "orig_nbformat": 4
 },
 "nbformat": 4,
 "nbformat_minor": 2
}
